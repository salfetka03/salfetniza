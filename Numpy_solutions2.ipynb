{
  "nbformat": 4,
  "nbformat_minor": 0,
  "metadata": {
    "colab": {
      "provenance": [],
      "authorship_tag": "ABX9TyOZVNvjl5NCwpZQrl1cfW7I",
      "include_colab_link": true
    },
    "kernelspec": {
      "name": "python3",
      "display_name": "Python 3"
    },
    "language_info": {
      "name": "python"
    }
  },
  "cells": [
    {
      "cell_type": "markdown",
      "metadata": {
        "id": "view-in-github",
        "colab_type": "text"
      },
      "source": [
        "<a href=\"https://colab.research.google.com/github/salfetka03/salfetniza/blob/main/Numpy_solutions2.ipynb\" target=\"_parent\"><img src=\"https://colab.research.google.com/assets/colab-badge.svg\" alt=\"Open In Colab\"/></a>"
      ]
    },
    {
      "cell_type": "markdown",
      "source": [
        "Импортируйте библиотеку NumPy"
      ],
      "metadata": {
        "id": "wMdxaUQ_KDGR"
      }
    },
    {
      "cell_type": "code",
      "execution_count": null,
      "metadata": {
        "id": "IBz4o0lbAav2"
      },
      "outputs": [],
      "source": [
        "import numpy"
      ]
    },
    {
      "cell_type": "markdown",
      "source": [
        "Создайте массив из 10 нулей"
      ],
      "metadata": {
        "id": "92QnE5vWMQiR"
      }
    },
    {
      "cell_type": "code",
      "source": [
        "import numpy as NP\n",
        "a=NP.ones(10)\n",
        "print(a)\n"
      ],
      "metadata": {
        "colab": {
          "base_uri": "https://localhost:8080/"
        },
        "id": "CEihmbX9MWSR",
        "outputId": "724b55cd-ca24-45ee-8001-7d595b1cfe7a"
      },
      "execution_count": null,
      "outputs": [
        {
          "output_type": "stream",
          "name": "stdout",
          "text": [
            "[1. 1. 1. 1. 1. 1. 1. 1. 1. 1.]\n"
          ]
        }
      ]
    },
    {
      "cell_type": "markdown",
      "source": [
        "Создать массив из 10 единиц"
      ],
      "metadata": {
        "id": "2E6uVIrsRTao"
      }
    },
    {
      "cell_type": "code",
      "source": [
        "b=NP.zeros(10)\n",
        "print(b)"
      ],
      "metadata": {
        "colab": {
          "base_uri": "https://localhost:8080/"
        },
        "id": "PHVKl7_nRdUS",
        "outputId": "1ddbdb50-85b7-45e4-8dfa-bca9cd1cabc2"
      },
      "execution_count": null,
      "outputs": [
        {
          "output_type": "stream",
          "name": "stdout",
          "text": [
            "[0. 0. 0. 0. 0. 0. 0. 0. 0. 0.]\n"
          ]
        }
      ]
    },
    {
      "cell_type": "markdown",
      "source": [
        "Создать массив из 10 пятерок\n"
      ],
      "metadata": {
        "id": "aeN8qm6DRp-W"
      }
    },
    {
      "cell_type": "code",
      "source": [
        "c=NP.zeros(10)+5\n",
        "print(c)"
      ],
      "metadata": {
        "colab": {
          "base_uri": "https://localhost:8080/"
        },
        "id": "f0BR1FOoRskA",
        "outputId": "d1bbbb74-cbb5-48a3-a90c-608274519367"
      },
      "execution_count": null,
      "outputs": [
        {
          "output_type": "stream",
          "name": "stdout",
          "text": [
            "[5. 5. 5. 5. 5. 5. 5. 5. 5. 5.]\n"
          ]
        }
      ]
    },
    {
      "cell_type": "markdown",
      "source": [
        " Создать массив из целых чисел от 10 до 50\n"
      ],
      "metadata": {
        "id": "B2YtM1PaR8aT"
      }
    },
    {
      "cell_type": "code",
      "source": [
        "d=NP.arange(10,51)\n",
        "print(d)"
      ],
      "metadata": {
        "colab": {
          "base_uri": "https://localhost:8080/"
        },
        "id": "fkNgtHngR-wr",
        "outputId": "ee45692d-455f-4423-fdb1-5d72b2fd63dd"
      },
      "execution_count": null,
      "outputs": [
        {
          "output_type": "stream",
          "name": "stdout",
          "text": [
            "[10 11 12 13 14 15 16 17 18 19 20 21 22 23 24 25 26 27 28 29 30 31 32 33\n",
            " 34 35 36 37 38 39 40 41 42 43 44 45 46 47 48 49 50]\n"
          ]
        }
      ]
    },
    {
      "cell_type": "markdown",
      "source": [
        "Создать массив из четных чисел от 10 до 50"
      ],
      "metadata": {
        "id": "X5UfIuwESmh6"
      }
    },
    {
      "cell_type": "code",
      "source": [
        "a1 = [i for i in range(0,51,2)]\n",
        "print(a1)\n"
      ],
      "metadata": {
        "colab": {
          "base_uri": "https://localhost:8080/"
        },
        "id": "bR3VuRWhSwvX",
        "outputId": "a4f47357-d9f2-4b54-eb64-e90a5fe898f6"
      },
      "execution_count": null,
      "outputs": [
        {
          "output_type": "stream",
          "name": "stdout",
          "text": [
            "[0, 2, 4, 6, 8, 10, 12, 14, 16, 18, 20, 22, 24, 26, 28, 30, 32, 34, 36, 38, 40, 42, 44, 46, 48, 50]\n"
          ]
        }
      ]
    },
    {
      "cell_type": "markdown",
      "source": [
        "Создать матрицу 3х3 с числами от 0 до 8"
      ],
      "metadata": {
        "id": "7MmWjM5fTVk9"
      }
    },
    {
      "cell_type": "code",
      "source": [
        "matrix1 = NP.array([[1, 2, 3], [4, 5, 6], [7, 8, 9]])\n",
        "print (\"Матрица:\\n\", matrix1)"
      ],
      "metadata": {
        "colab": {
          "base_uri": "https://localhost:8080/"
        },
        "id": "m_S98AT7TYG8",
        "outputId": "cb25893f-6ed2-470c-daa4-c61fdecf2a90"
      },
      "execution_count": null,
      "outputs": [
        {
          "output_type": "stream",
          "name": "stdout",
          "text": [
            "Матрица:\n",
            " [[1 2 3]\n",
            " [4 5 6]\n",
            " [7 8 9]]\n"
          ]
        }
      ]
    },
    {
      "cell_type": "markdown",
      "source": [
        "Создать единичную матрицу 3x3"
      ],
      "metadata": {
        "id": "AT9oRmSpT5hS"
      }
    },
    {
      "cell_type": "code",
      "source": [
        "print(NP.eye(3,3))"
      ],
      "metadata": {
        "colab": {
          "base_uri": "https://localhost:8080/"
        },
        "id": "6kRRr1VBT9M1",
        "outputId": "5df70182-ed96-41f8-bf57-6e9deccac1bc"
      },
      "execution_count": null,
      "outputs": [
        {
          "output_type": "stream",
          "name": "stdout",
          "text": [
            "[[1. 0. 0.]\n",
            " [0. 1. 0.]\n",
            " [0. 0. 1.]]\n"
          ]
        }
      ]
    },
    {
      "cell_type": "markdown",
      "source": [
        "Используйте NumPy для генерации случайного числа от 0 до 1"
      ],
      "metadata": {
        "id": "crEPt5UYY8xD"
      }
    },
    {
      "cell_type": "code",
      "source": [
        "print(NP.random.rand())"
      ],
      "metadata": {
        "colab": {
          "base_uri": "https://localhost:8080/"
        },
        "id": "JGL8hnSoY435",
        "outputId": "bc0f7ccc-5418-45ff-d713-ff6897c47990"
      },
      "execution_count": null,
      "outputs": [
        {
          "output_type": "stream",
          "name": "stdout",
          "text": [
            "0.13485122352484757\n"
          ]
        }
      ]
    },
    {
      "cell_type": "markdown",
      "source": [
        "Используйте NumPy для генерации массива из 25 случайных чисел,\n",
        "взятых из стандартного нормального распределения"
      ],
      "metadata": {
        "id": "IIcddfxUZg_2"
      }
    },
    {
      "cell_type": "code",
      "source": [
        "print(NP.random.normal(size=25))"
      ],
      "metadata": {
        "colab": {
          "base_uri": "https://localhost:8080/"
        },
        "id": "AXHB-uvKZbmP",
        "outputId": "79428de9-cb35-4cc3-e260-691420824f1e"
      },
      "execution_count": null,
      "outputs": [
        {
          "output_type": "stream",
          "name": "stdout",
          "text": [
            "[ 0.02639252  1.91800907  0.20341408 -0.32697193  2.18416881 -0.95404273\n",
            "  0.21040373 -1.7723107  -0.50429406  2.74601313  0.10392141  1.42814973\n",
            " -0.8769968  -0.7682804   0.1112273  -1.14806912  0.96479408 -0.53854764\n",
            "  0.47766241  0.17315783 -0.19355734  0.49279084  0.24632605  0.18365242\n",
            "  0.25665565]\n"
          ]
        }
      ]
    },
    {
      "cell_type": "markdown",
      "source": [
        "Создайте следующую матрицу используя функции библиотеки NumPy"
      ],
      "metadata": {
        "id": "Mfz6moqRahNd"
      }
    },
    {
      "cell_type": "code",
      "source": [
        "d = NP.arange(0.01,1.01,0.01).reshape(10,10)\n",
        "print(d)             "
      ],
      "metadata": {
        "colab": {
          "base_uri": "https://localhost:8080/"
        },
        "id": "MeKsiWv9cPU6",
        "outputId": "b129b488-145a-406c-95c9-6730589cbcfa"
      },
      "execution_count": null,
      "outputs": [
        {
          "output_type": "stream",
          "name": "stdout",
          "text": [
            "[[0.01 0.02 0.03 0.04 0.05 0.06 0.07 0.08 0.09 0.1 ]\n",
            " [0.11 0.12 0.13 0.14 0.15 0.16 0.17 0.18 0.19 0.2 ]\n",
            " [0.21 0.22 0.23 0.24 0.25 0.26 0.27 0.28 0.29 0.3 ]\n",
            " [0.31 0.32 0.33 0.34 0.35 0.36 0.37 0.38 0.39 0.4 ]\n",
            " [0.41 0.42 0.43 0.44 0.45 0.46 0.47 0.48 0.49 0.5 ]\n",
            " [0.51 0.52 0.53 0.54 0.55 0.56 0.57 0.58 0.59 0.6 ]\n",
            " [0.61 0.62 0.63 0.64 0.65 0.66 0.67 0.68 0.69 0.7 ]\n",
            " [0.71 0.72 0.73 0.74 0.75 0.76 0.77 0.78 0.79 0.8 ]\n",
            " [0.81 0.82 0.83 0.84 0.85 0.86 0.87 0.88 0.89 0.9 ]\n",
            " [0.91 0.92 0.93 0.94 0.95 0.96 0.97 0.98 0.99 1.  ]]\n"
          ]
        }
      ]
    },
    {
      "cell_type": "markdown",
      "source": [
        "Дана стартовая матрица (обязательно запустите код ниже в вашем\n",
        "решении!). Эта матрица будет использоваться в последующих задачах"
      ],
      "metadata": {
        "id": "-RToARaJfDY0"
      }
    },
    {
      "cell_type": "code",
      "source": [
        "mat = NP.arange(1,26).reshape(5,5)\n",
        "print(mat)\n"
      ],
      "metadata": {
        "id": "BMXpRfyRe7Ky",
        "colab": {
          "base_uri": "https://localhost:8080/"
        },
        "outputId": "175ed37e-fd12-4841-88e3-bbe2902b89d1"
      },
      "execution_count": null,
      "outputs": [
        {
          "output_type": "stream",
          "name": "stdout",
          "text": [
            "[[ 1  2  3  4  5]\n",
            " [ 6  7  8  9 10]\n",
            " [11 12 13 14 15]\n",
            " [16 17 18 19 20]\n",
            " [21 22 23 24 25]]\n"
          ]
        }
      ]
    },
    {
      "cell_type": "markdown",
      "source": [
        "Необходимо написать код который вернет следующую матрицу\n",
        "из стартовой:"
      ],
      "metadata": {
        "id": "qjP6spbPfXm6"
      }
    },
    {
      "cell_type": "code",
      "source": [
        "print('1=',mat[2:,:1])"
      ],
      "metadata": {
        "id": "Ay6uNMTAfawM",
        "colab": {
          "base_uri": "https://localhost:8080/"
        },
        "outputId": "9ce38b26-594f-499c-c3c3-e6112bbd89cc"
      },
      "execution_count": null,
      "outputs": [
        {
          "output_type": "stream",
          "name": "stdout",
          "text": [
            "1= [[11]\n",
            " [16]\n",
            " [21]]\n"
          ]
        }
      ]
    },
    {
      "cell_type": "markdown",
      "source": [
        "Написать код обращения к элементу который вернет значение 20 из\n",
        "стартовой матрицы задачи l."
      ],
      "metadata": {
        "id": "hqrdAWMsoOa9"
      }
    },
    {
      "cell_type": "code",
      "source": [
        "print(mat[3,3])"
      ],
      "metadata": {
        "id": "F7WS0T_4obQg",
        "colab": {
          "base_uri": "https://localhost:8080/"
        },
        "outputId": "4d89ba6e-9b50-4efc-80fd-84ef4542bb48"
      },
      "execution_count": null,
      "outputs": [
        {
          "output_type": "stream",
          "name": "stdout",
          "text": [
            "19\n"
          ]
        }
      ]
    },
    {
      "cell_type": "markdown",
      "source": [
        "Написать код к стартовой матрице задачи l , который воспроизводитвывод, показанный ниже\n",
        "array ([2]),\n",
        "        [7],\n",
        "        [12]])\n",
        "            "
      ],
      "metadata": {
        "id": "CpY_7eguyuYC"
      }
    },
    {
      "cell_type": "code",
      "source": [
        "print(mat[:3, 1 :2])"
      ],
      "metadata": {
        "colab": {
          "base_uri": "https://localhost:8080/"
        },
        "id": "4j0Hq0X3yWeS",
        "outputId": "201b3f7f-65e4-4fe9-9c4f-2d62741aaa15"
      },
      "execution_count": null,
      "outputs": [
        {
          "output_type": "stream",
          "name": "stdout",
          "text": [
            "[[ 2]\n",
            " [ 7]\n",
            " [12]]\n"
          ]
        }
      ]
    },
    {
      "cell_type": "markdown",
      "source": [
        "задание \"о\""
      ],
      "metadata": {
        "id": "5fRxyveqzGuh"
      }
    },
    {
      "cell_type": "code",
      "source": [
        "print(mat[4, :])"
      ],
      "metadata": {
        "colab": {
          "base_uri": "https://localhost:8080/"
        },
        "id": "LiqC3fn0zQpg",
        "outputId": "c0e862e7-295b-4588-b4fa-53184cb5707c"
      },
      "execution_count": null,
      "outputs": [
        {
          "output_type": "stream",
          "name": "stdout",
          "text": [
            "[21 22 23 24 25]\n"
          ]
        }
      ]
    },
    {
      "cell_type": "markdown",
      "source": [
        "задание \"р\""
      ],
      "metadata": {
        "id": "W94zeW6qzV3v"
      }
    },
    {
      "cell_type": "code",
      "source": [
        "print(mat[3:, 0:])"
      ],
      "metadata": {
        "colab": {
          "base_uri": "https://localhost:8080/"
        },
        "id": "4o0PDm5GzZAd",
        "outputId": "85d77602-fed6-4269-ce92-f75b32c55904"
      },
      "execution_count": null,
      "outputs": [
        {
          "output_type": "stream",
          "name": "stdout",
          "text": [
            "[[16 17 18 19 20]\n",
            " [21 22 23 24 25]]\n"
          ]
        }
      ]
    },
    {
      "cell_type": "markdown",
      "source": [
        "задание \"q\""
      ],
      "metadata": {
        "id": "nkqXxBto0Rzj"
      }
    },
    {
      "cell_type": "code",
      "source": [
        "print(mat.sum())"
      ],
      "metadata": {
        "colab": {
          "base_uri": "https://localhost:8080/"
        },
        "id": "qUnwFIwJ0WYr",
        "outputId": "9ebc0b78-bca2-4daf-9052-c25971e36db9"
      },
      "execution_count": null,
      "outputs": [
        {
          "output_type": "stream",
          "name": "stdout",
          "text": [
            "325\n"
          ]
        }
      ]
    },
    {
      "cell_type": "markdown",
      "source": [
        "задание \"r\""
      ],
      "metadata": {
        "id": "f4ATUx0i0ZoK"
      }
    },
    {
      "cell_type": "code",
      "source": [
        "print(mat.std())"
      ],
      "metadata": {
        "colab": {
          "base_uri": "https://localhost:8080/"
        },
        "id": "yzM_HybD0dhi",
        "outputId": "37dc4c2d-e895-4d6e-be45-c8f703c30e39"
      },
      "execution_count": null,
      "outputs": [
        {
          "output_type": "stream",
          "name": "stdout",
          "text": [
            "7.211102550927978\n"
          ]
        }
      ]
    },
    {
      "cell_type": "markdown",
      "source": [
        "задание \"s\""
      ],
      "metadata": {
        "id": "UW84HHbj0hIP"
      }
    },
    {
      "cell_type": "code",
      "source": [
        "print(mat.sum(axis=0))"
      ],
      "metadata": {
        "colab": {
          "base_uri": "https://localhost:8080/"
        },
        "id": "To0W1Yp90geG",
        "outputId": "7c6a78d5-12ab-46f1-a380-cc7154b42fac"
      },
      "execution_count": null,
      "outputs": [
        {
          "output_type": "stream",
          "name": "stdout",
          "text": [
            "[55 60 65 70 75]\n"
          ]
        }
      ]
    }
  ]
}